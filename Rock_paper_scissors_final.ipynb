{
  "nbformat": 4,
  "nbformat_minor": 0,
  "metadata": {
    "colab": {
      "provenance": []
    },
    "kernelspec": {
      "name": "python3",
      "display_name": "Python 3"
    },
    "language_info": {
      "name": "python"
    }
  },
  "cells": [
    {
      "cell_type": "code",
      "execution_count": null,
      "metadata": {
        "colab": {
          "base_uri": "https://localhost:8080/"
        },
        "id": "iaWLLEu_3dMI",
        "outputId": "f83f224d-d552-4444-9c24-a643a80b2768"
      },
      "outputs": [
        {
          "metadata": {
            "tags": null
          },
          "name": "stdout",
          "output_type": "stream",
          "text": [
            "Welcome to Rock, Paper, Scissors!\n"
          ]
        }
      ],
      "source": [
        "#defines the choices for the players\n",
        "def getthechoice(player):\n",
        "    choice = \"\"\n",
        "    while choice not in [\"rock\", \"paper\", \"scissors\"]:\n",
        "        choice = input(player + \", enter rock, paper, or scissors: \").lower()\n",
        "        if choice not in [\"rock\", \"paper\", \"scissors\"]:\n",
        "            print(\"Invalid choice. Try again.\")\n",
        "    return choice\n",
        "    #determines how a winner is picked and allows game to be played\n",
        "def findthewinner(player1, choice1, player2, choice2):\n",
        "    if choice1 == choice2:\n",
        "        return \"It's a tie!\"\n",
        "    elif choice1 == \"rock\" and choice2 == \"scissors\":\n",
        "        return player1 + \" wins!\"\n",
        "    elif choice1 == \"paper\" and choice2 == \"rock\":\n",
        "        return player1 + \" wins!\"\n",
        "    elif choice1 == \"scissors\" and choice2 == \"paper\":\n",
        "        return player1 + \" wins!\"\n",
        "    else:\n",
        "        return player2 + \" wins!\"\n",
        "print(\"Welcome to Rock, Paper, Scissors!\")\n",
        "player1 = input(\"Enter Player 1's name: \")\n",
        "player2 = input(\"Enter Player 2's name: \")\n",
        "while True:\n",
        "    print(\"\\n\" + player1 + \" and \" + player2 + \", make your choices!\")\n",
        "    choice1 = getthechoice(player1)\n",
        "    choice2 = getthechoice(player2)\n",
        "    print(\"\\n\" + player1 + \" chose \" + choice1)\n",
        "    print(player2 + \" chose \" + choice2)\n",
        "    print(findthewinner(player1, choice1, player2, choice2))\n",
        "    play_again = input(\"\\nDo you want to play again? (yes/no): \").lower()\n",
        "    if play_again != \"yes\":\n",
        "        print(\"Thanks for playing!\")\n",
        "        break\n",
        "\n",
        "\n"
      ]
    }
  ]
}